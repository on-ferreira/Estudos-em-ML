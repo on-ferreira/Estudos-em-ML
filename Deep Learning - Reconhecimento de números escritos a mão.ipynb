{
 "cells": [
  {
   "cell_type": "code",
   "execution_count": 1,
   "id": "5a754b5f-8dd1-45cb-afad-41570e800599",
   "metadata": {},
   "outputs": [],
   "source": [
    "import numpy as np\n",
    "import torch\n",
    "import torch.nn.functional as F\n",
    "import torchvision\n",
    "import matplotlib.pyplot as plt\n",
    "from time import time\n",
    "from torchvision import datasets, transforms\n",
    "from torch import nn, optim"
   ]
  },
  {
   "cell_type": "code",
   "execution_count": 2,
   "id": "d65f6282-316b-4b70-a967-b00c88123d0e",
   "metadata": {},
   "outputs": [
    {
     "name": "stdout",
     "output_type": "stream",
     "text": [
      "Downloading http://yann.lecun.com/exdb/mnist/train-images-idx3-ubyte.gz\n"
     ]
    },
    {
     "name": "stderr",
     "output_type": "stream",
     "text": [
      "44.3%"
     ]
    },
    {
     "name": "stdout",
     "output_type": "stream",
     "text": [
      "Downloading http://yann.lecun.com/exdb/mnist/train-images-idx3-ubyte.gz to ./MNIST_data/MNIST\\raw\\train-images-idx3-ubyte.gz\n"
     ]
    },
    {
     "name": "stderr",
     "output_type": "stream",
     "text": [
      "100.0%\n"
     ]
    },
    {
     "name": "stdout",
     "output_type": "stream",
     "text": [
      "Extracting ./MNIST_data/MNIST\\raw\\train-images-idx3-ubyte.gz to ./MNIST_data/MNIST\\raw\n"
     ]
    },
    {
     "name": "stderr",
     "output_type": "stream",
     "text": [
      "100.0%"
     ]
    },
    {
     "name": "stdout",
     "output_type": "stream",
     "text": [
      "\n",
      "Downloading http://yann.lecun.com/exdb/mnist/train-labels-idx1-ubyte.gz\n",
      "Downloading http://yann.lecun.com/exdb/mnist/train-labels-idx1-ubyte.gz to ./MNIST_data/MNIST\\raw\\train-labels-idx1-ubyte.gz\n",
      "Extracting ./MNIST_data/MNIST\\raw\\train-labels-idx1-ubyte.gz to ./MNIST_data/MNIST\\raw\n",
      "\n",
      "Downloading http://yann.lecun.com/exdb/mnist/t10k-images-idx3-ubyte.gz\n"
     ]
    },
    {
     "name": "stderr",
     "output_type": "stream",
     "text": [
      "\n"
     ]
    },
    {
     "name": "stdout",
     "output_type": "stream",
     "text": [
      "Downloading http://yann.lecun.com/exdb/mnist/t10k-images-idx3-ubyte.gz to ./MNIST_data/MNIST\\raw\\t10k-images-idx3-ubyte.gz\n"
     ]
    },
    {
     "name": "stderr",
     "output_type": "stream",
     "text": [
      "100.0%\n"
     ]
    },
    {
     "name": "stdout",
     "output_type": "stream",
     "text": [
      "Extracting ./MNIST_data/MNIST\\raw\\t10k-images-idx3-ubyte.gz to ./MNIST_data/MNIST\\raw\n",
      "\n",
      "Downloading http://yann.lecun.com/exdb/mnist/t10k-labels-idx1-ubyte.gz\n"
     ]
    },
    {
     "name": "stderr",
     "output_type": "stream",
     "text": [
      "100.0%"
     ]
    },
    {
     "name": "stdout",
     "output_type": "stream",
     "text": [
      "Downloading http://yann.lecun.com/exdb/mnist/t10k-labels-idx1-ubyte.gz to ./MNIST_data/MNIST\\raw\\t10k-labels-idx1-ubyte.gz\n",
      "Extracting ./MNIST_data/MNIST\\raw\\t10k-labels-idx1-ubyte.gz to ./MNIST_data/MNIST\\raw\n",
      "\n"
     ]
    },
    {
     "name": "stderr",
     "output_type": "stream",
     "text": [
      "\n"
     ]
    }
   ],
   "source": [
    "transform = transforms.ToTensor() #Definindo a conversão da imagem para tensor\n",
    "\n",
    "trainset = datasets.MNIST('./MNIST_data/', download=True, train=True, transform=transform) #Carrega as imagens de treino do dataset\n",
    "trainloader = torch.utils.data.DataLoader(trainset, batch_size = 64, shuffle=True) # Cria um buffer para pegar os dados por partes\n",
    "\n",
    "valset = datasets.MNIST('./MNIST_data/', download=True, train=False, transform=transform) #Carrega as imagens de validação do dataset [As imagens de teste]\n",
    "valloader = torch.utils.data.DataLoader(valset, batch_size=64, shuffle=True) # Cria um buffer para pegar os dados por partes"
   ]
  },
  {
   "cell_type": "code",
   "execution_count": 61,
   "id": "2a5b41f5-cb39-49b6-90e8-c010d331f417",
   "metadata": {},
   "outputs": [
    {
     "data": {
      "image/png": "[encoded data removed]",
      "text/plain": [
       "<Figure size 640x480 with 1 Axes>"
      ]
     },
     "metadata": {},
     "output_type": "display_data"
    }
   ],
   "source": [
    "dataiter = iter(trainloader)\n",
    "imagens, etiquetas = next(dataiter)\n",
    "plt.imshow(imagens[0].numpy().squeeze(), cmap='gray_r');"
   ]
  },
  {
   "cell_type": "code",
   "execution_count": 8,
   "id": "a47facd3-5788-4031-adcf-ec4d67831fb5",
   "metadata": {},
   "outputs": [
    {
     "name": "stdout",
     "output_type": "stream",
     "text": [
      "torch.Size([1, 28, 28])\n",
      "torch.Size([])\n",
      "tensor(4)\n"
     ]
    }
   ],
   "source": [
    "print(imagens[0].shape) #Para verificar as dimensões do tensor de cada imagem\n",
    "print(etiquetas[0].shape) #Para verificar as dimensões do tensor de cada etiqueta\n",
    "print(etiquetas[0])"
   ]
  },
  {
   "cell_type": "code",
   "execution_count": 13,
   "id": "b326bb7a-e14b-4ce5-b6dc-cc14c936e7e7",
   "metadata": {},
   "outputs": [],
   "source": [
    "class Modelo(nn.Module):\n",
    "    def __init__(self):\n",
    "        super(Modelo,self).__init__()\n",
    "        self.linear1 = nn.Linear(28*28, 128) #Camada de entrada com 784 neurônios que se ligam a 128\n",
    "        self.linear2 = nn.Linear(128,64) #Camada interna 1, 128 neurônios que se ligam a 64\n",
    "        self.linear3 = nn.Linear(64,10) #Camada interna 2, 64 neurônios que se ligam a 10\n",
    "        #Para a camada de saída não é necessário definir nada pois só precisamos pegar o output da camada interna 2\n",
    "\n",
    "    def forward(self,X):\n",
    "        X = F.relu(self.linear1(X)) #Função de ativação da camada de entrada para a camada interna 1\n",
    "        X = F.relu(self.linear2(X)) #Função de ativação da camada interna 1 para a camada interna 2\n",
    "        X = self.linear3(X) #Função de ativação da camada interna 2 para a camada de saída, nesse caso f(x) = x\n",
    "        return F.log_softmax(X,dim=1) #Dados utilizados para a calcular a perda "
   ]
  },
  {
   "cell_type": "code",
   "execution_count": 48,
   "id": "dd1d6575-5c8e-47d2-afbc-6870081284d1",
   "metadata": {},
   "outputs": [],
   "source": [
    "def treino(modelo, trainloader, device):\n",
    "    otimizador = optim.SGD(modelo.parameters(), lr=0.01, momentum=0.5)\n",
    "    inicio = time()\n",
    "\n",
    "    criterio = nn.NLLLoss()\n",
    "    EPOCHS = 25\n",
    "    modelo.train()\n",
    "\n",
    "    for epoch in range(EPOCHS):\n",
    "        perda_acumulada = 0\n",
    "\n",
    "        for imagens, etiquetas in trainloader:\n",
    "            imagens = imagens.view(imagens.shape[0], -1)\n",
    "            otimizador.zero_grad()\n",
    "\n",
    "            output = modelo(imagens.to(device))\n",
    "            perda_instantanea = criterio(output, etiquetas.to(device))\n",
    "\n",
    "            perda_instantanea.backward()\n",
    "            otimizador.step()\n",
    "\n",
    "            perda_acumulada += perda_instantanea.item()\n",
    "\n",
    "        print(\"Epoch {} - Perda resultante: {}\".format(epoch + 1, perda_acumulada / len(trainloader)))\n",
    "\n",
    "    print(\"\\n Tempo de treino (em minutos) = \", (time() - inicio) / 60)\n"
   ]
  },
  {
   "cell_type": "code",
   "execution_count": 21,
   "id": "ef4a851d-3198-4746-a795-08df4a7b99c0",
   "metadata": {},
   "outputs": [],
   "source": [
    "def validacao(modelo, valloader, device):\n",
    "    conta_corretas, conta_todas = 0, 0\n",
    "    for imagens, etiquetas in valloader:\n",
    "        for i in range(len(etiquetas)):\n",
    "            img = imagens[i].view(1, 784) #Desativar o autograd para acelerar a validação. Grafos computacionais dinâmicos tem um custo alto de processamento\n",
    "            with torch.no_grad():\n",
    "                logps = modelo(img.to(device)) #output do modelo em escala logaritimica\n",
    "    \n",
    "        ps = torch.exp(logps) #Converte o output para escala normal (Lembrando que é um tensor)\n",
    "        probab = list(ps.cpu().numpy()[0])\n",
    "        etiqueta_pred = probab.index(max(probab)) #Converte o tensor em um número, no caso o número que o modelo previu\n",
    "        etiqueta_certa = etiquetas.numpy()[i]\n",
    "        if(etiqueta_certa == etiqueta_pred): #Compara as etiquetas prevista e a correta\n",
    "            conta_corretas += 1\n",
    "        conta_todas +=1\n",
    "    \n",
    "    print(\"Total de imagens testadas =\", conta_todas)\n",
    "    print(\"\\nPrecisão do modelo = {}%\".format(conta_corretas*100/conta_todas))"
   ]
  },
  {
   "cell_type": "code",
   "execution_count": 22,
   "id": "5565c0bf-a13c-4c4f-b75b-7f4e4be32cfc",
   "metadata": {},
   "outputs": [
    {
     "data": {
      "text/plain": [
       "Modelo(\n",
       "  (linear1): Linear(in_features=784, out_features=128, bias=True)\n",
       "  (linear2): Linear(in_features=128, out_features=64, bias=True)\n",
       "  (linear3): Linear(in_features=64, out_features=10, bias=True)\n",
       ")"
      ]
     },
     "execution_count": 22,
     "metadata": {},
     "output_type": "execute_result"
    }
   ],
   "source": [
    "modelo = Modelo()\n",
    "device = torch.device(\"cpu\")\n",
    "modelo.to(device)"
   ]
  },
  {
   "cell_type": "code",
   "execution_count": 49,
   "id": "2a527e77-e0a3-42e3-9b82-7f16fca014d5",
   "metadata": {},
   "outputs": [
    {
     "name": "stdout",
     "output_type": "stream",
     "text": [
      "Epoch 1 - Perda resultante: 0.04243341888755814\n",
      "Epoch 2 - Perda resultante: 0.04048879063034903\n",
      "Epoch 3 - Perda resultante: 0.03862016515057685\n",
      "Epoch 4 - Perda resultante: 0.03702334354796421\n",
      "Epoch 5 - Perda resultante: 0.035282289089539697\n",
      "Epoch 6 - Perda resultante: 0.033744351522846106\n",
      "Epoch 7 - Perda resultante: 0.03249322252694581\n",
      "Epoch 8 - Perda resultante: 0.030777616435408727\n",
      "Epoch 9 - Perda resultante: 0.029663084126732894\n",
      "Epoch 10 - Perda resultante: 0.028302000290570235\n",
      "Epoch 11 - Perda resultante: 0.026976060767251966\n",
      "Epoch 12 - Perda resultante: 0.02585939287807721\n",
      "Epoch 13 - Perda resultante: 0.02480351950884906\n",
      "Epoch 14 - Perda resultante: 0.023827645513636152\n",
      "Epoch 15 - Perda resultante: 0.022654609933276094\n",
      "Epoch 16 - Perda resultante: 0.021609598718983714\n",
      "Epoch 17 - Perda resultante: 0.020682190005892893\n",
      "Epoch 18 - Perda resultante: 0.019835484714415083\n",
      "Epoch 19 - Perda resultante: 0.019038931403839304\n",
      "Epoch 20 - Perda resultante: 0.018149599508280115\n",
      "Epoch 21 - Perda resultante: 0.017435475604421\n",
      "Epoch 22 - Perda resultante: 0.016764186542457107\n",
      "Epoch 23 - Perda resultante: 0.016054315543023626\n",
      "Epoch 24 - Perda resultante: 0.015338961490993895\n",
      "Epoch 25 - Perda resultante: 0.01485978289339036\n",
      "\n",
      " Tempo de treino (em minutos) =  2.626566195487976\n"
     ]
    }
   ],
   "source": [
    "treino(modelo,trainloader,device)"
   ]
  },
  {
   "cell_type": "code",
   "execution_count": 50,
   "id": "bca20884-752e-4535-a36b-aad7a712332e",
   "metadata": {},
   "outputs": [
    {
     "name": "stdout",
     "output_type": "stream",
     "text": [
      "Total de imagens testadas = 157\n",
      "\n",
      "Precisão do modelo = 96.81528662420382%\n"
     ]
    }
   ],
   "source": [
    "validacao(modelo, valloader, device)"
   ]
  },
  {
   "cell_type": "code",
   "execution_count": 62,
   "id": "5f8f8999-250a-4d1d-bfa0-bf63911095e6",
   "metadata": {},
   "outputs": [
    {
     "name": "stdout",
     "output_type": "stream",
     "text": [
      "Probabilidades para a imagem 0.png:\n",
      "Classe 0: 0.5694\n",
      "Classe 1: 0.0000\n",
      "Classe 2: 0.0003\n",
      "Classe 3: 0.0000\n",
      "Classe 4: 0.0000\n",
      "Classe 5: 0.0000\n",
      "Classe 6: 0.0000\n",
      "Classe 7: 0.0003\n",
      "Classe 8: 0.0000\n",
      "Classe 9: 0.4299\n",
      "Probabilidades para a imagem 1.png:\n",
      "Classe 0: 0.0000\n",
      "Classe 1: 0.0006\n",
      "Classe 2: 0.0009\n",
      "Classe 3: 0.0091\n",
      "Classe 4: 0.0000\n",
      "Classe 5: 0.0000\n",
      "Classe 6: 0.0000\n",
      "Classe 7: 0.6721\n",
      "Classe 8: 0.0000\n",
      "Classe 9: 0.3173\n",
      "Probabilidades para a imagem 3.png:\n",
      "Classe 0: 0.0000\n",
      "Classe 1: 0.0000\n",
      "Classe 2: 0.0000\n",
      "Classe 3: 1.0000\n",
      "Classe 4: 0.0000\n",
      "Classe 5: 0.0000\n",
      "Classe 6: 0.0000\n",
      "Classe 7: 0.0000\n",
      "Classe 8: 0.0000\n",
      "Classe 9: 0.0000\n",
      "Probabilidades para a imagem 4.png:\n",
      "Classe 0: 0.0000\n",
      "Classe 1: 0.0000\n",
      "Classe 2: 0.0000\n",
      "Classe 3: 0.0001\n",
      "Classe 4: 0.1704\n",
      "Classe 5: 0.0000\n",
      "Classe 6: 0.0000\n",
      "Classe 7: 0.0010\n",
      "Classe 8: 0.0001\n",
      "Classe 9: 0.8284\n",
      "Probabilidades para a imagem 7.png:\n",
      "Classe 0: 0.0000\n",
      "Classe 1: 0.0000\n",
      "Classe 2: 0.0000\n",
      "Classe 3: 0.0000\n",
      "Classe 4: 0.0000\n",
      "Classe 5: 0.0000\n",
      "Classe 6: 0.0000\n",
      "Classe 7: 1.0000\n",
      "Classe 8: 0.0000\n",
      "Classe 9: 0.0000\n",
      "Probabilidades para a imagem 8.png:\n",
      "Classe 0: 0.0000\n",
      "Classe 1: 0.0000\n",
      "Classe 2: 0.0000\n",
      "Classe 3: 0.0000\n",
      "Classe 4: 0.0000\n",
      "Classe 5: 0.0000\n",
      "Classe 6: 0.0000\n",
      "Classe 7: 0.0000\n",
      "Classe 8: 1.0000\n",
      "Classe 9: 0.0000\n",
      "Probabilidades para a imagem 9.png:\n",
      "Classe 0: 0.0000\n",
      "Classe 1: 0.0000\n",
      "Classe 2: 0.0000\n",
      "Classe 3: 0.0000\n",
      "Classe 4: 0.0000\n",
      "Classe 5: 0.0000\n",
      "Classe 6: 0.0000\n",
      "Classe 7: 0.0000\n",
      "Classe 8: 0.0164\n",
      "Classe 9: 0.9836\n",
      "Imagem 0.png: Classe predita = 0\n",
      "Imagem 1.png: Classe predita = 7\n",
      "Imagem 3.png: Classe predita = 3\n",
      "Imagem 4.png: Classe predita = 9\n",
      "Imagem 7.png: Classe predita = 7\n",
      "Imagem 8.png: Classe predita = 8\n",
      "Imagem 9.png: Classe predita = 9\n"
     ]
    }
   ],
   "source": [
    "from PIL import Image\n",
    "import os\n",
    "\n",
    "# Caminho para a pasta contendo as imagens\n",
    "pasta_imagens = 'C:/Users/orlan/OneDrive/Documentos/UFF/DIO/ML/imagens/'\n",
    "\n",
    "# Lista para armazenar os resultados das previsões\n",
    "resultados = []\n",
    "\n",
    "# Percorrer todas as imagens na pasta\n",
    "for filename in os.listdir(pasta_imagens):\n",
    "    # Verificar se é um arquivo de imagem\n",
    "    if filename.endswith(\".png\"):\n",
    "        # Caminho completo para a imagem\n",
    "        caminho_imagem = os.path.join(pasta_imagens, filename)\n",
    "\n",
    "        # Carregar a imagem usando a biblioteca PIL\n",
    "        imagem = Image.open(caminho_imagem)\n",
    "\n",
    "        # Redimensionar a imagem para 28x28 pixels\n",
    "        imagem = imagem.resize((28, 28))\n",
    "\n",
    "        # Converter a imagem para escala de cinza\n",
    "        imagem = imagem.convert('L')\n",
    "\n",
    "        # Converter a imagem para um array NumPy e normalizar os valores para o intervalo [0, 1]\n",
    "        imagem_array = np.array(imagem) / 255.0\n",
    "\n",
    "        # Redimensionar o array para corresponder à entrada do modelo (que espera um batch de tamanho 1)\n",
    "        imagem_array = imagem_array.reshape(1, -1)\n",
    "\n",
    "        # Converter o array para o formato Tensor do PyTorch\n",
    "        imagem_tensor = torch.tensor(imagem_array, dtype=torch.float32)\n",
    "\n",
    "        with torch.no_grad():\n",
    "            output = modelo(imagem_tensor)\n",
    "\n",
    "        # Obter as probabilidades para cada classe\n",
    "        probabilidades = torch.exp(output)\n",
    "\n",
    "        # Obter o índice da classe com a maior probabilidade\n",
    "        classe_predita = torch.argmax(probabilidades)\n",
    "\n",
    "        # Armazenar o resultado da previsão (índice da classe predita) na lista de resultados\n",
    "        resultados.append(classe_predita.item())\n",
    "\n",
    "        # Obter as probabilidades para cada classe\n",
    "        probabilidades = torch.exp(output)\n",
    "\n",
    "        # Imprimir as probabilidades para cada classe\n",
    "        print(f\"Probabilidades para a imagem {filename}:\")\n",
    "        for classe, probabilidade in enumerate(probabilidades.squeeze().tolist()):\n",
    "            print(f\"Classe {classe}: {probabilidade:.4f}\")\n",
    "\n",
    "\n",
    "# Imprimir os resultados\n",
    "for i, filename in enumerate(os.listdir(pasta_imagens)):\n",
    "    if filename.endswith(\".png\"):\n",
    "        print(f\"Imagem {filename}: Classe predita = {resultados[i]}\")"
   ]
  }
 ],
 "metadata": {
  "kernelspec": {
   "display_name": "Python 3 (ipykernel)",
   "language": "python",
   "name": "python3"
  },
  "language_info": {
   "codemirror_mode": {
    "name": "ipython",
    "version": 3
   },
   "file_extension": ".py",
   "mimetype": "text/x-python",
   "name": "python",
   "nbconvert_exporter": "python",
   "pygments_lexer": "ipython3",
   "version": "3.9.13"
  }
 },
 "nbformat": 4,
 "nbformat_minor": 5
}
